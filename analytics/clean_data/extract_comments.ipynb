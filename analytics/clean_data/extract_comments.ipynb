{
 "cells": [
  {
   "cell_type": "markdown",
   "id": "aa938329",
   "metadata": {},
   "source": [
    "# Extract Comments\n",
    "Cleans the data from comments.json\n",
    "\n",
    "- Reads `data/raw/comments.json` \n",
    "- Normalizes the `comments` array into tabular columns\n",
    "- Parses timestamps and adds `scraped_at`\n",
    "- Saves to `data/comments.parquet`"
   ]
  },
  {
   "cell_type": "code",
   "execution_count": 1,
   "id": "e35c9498",
   "metadata": {},
   "outputs": [],
   "source": [
    "import json\n",
    "from pathlib import Path\n",
    "import pandas as pd\n",
    "\n",
    "OUTPUT = Path('../../data')\n",
    "\n",
    "comments_path = '../../data/raw/comments.json'\n",
    "parquet_out = OUTPUT / 'comments.parquet'\n",
    "\n",
    "with open(comments_path, 'r') as f:\n",
    "    raw = json.load(f)"
   ]
  },
  {
   "cell_type": "code",
   "execution_count": 2,
   "id": "5718f6fb",
   "metadata": {},
   "outputs": [],
   "source": [
    "\n",
    "comments = raw.get('comments', [])\n",
    "scraped_at = raw.get('scraped_at')\n",
    "\n",
    "df = pd.DataFrame(comments)\n",
    "\n",
    "\n",
    "for col in ['text', 'devlog_id', 'slack_id', 'created_at']:\n",
    "    if col not in df.columns:\n",
    "        df[col] = pd.NA\n",
    "\n",
    "if 'created_at' in df.columns:\n",
    "    df['created_at'] = pd.to_datetime(df['created_at'], errors='coerce', utc=True)\n",
    "\n",
    "if scraped_at:\n",
    "    df['scraped_at'] = pd.to_datetime(scraped_at, errors='coerce', utc=True)\n",
    "else:\n",
    "    df['scraped_at'] = pd.Timestamp.utcnow()\n",
    "\n",
    "base_cols = ['text', 'devlog_id', 'slack_id', 'created_at', 'scraped_at']\n",
    "other_cols = [c for c in df.columns if c not in base_cols]\n",
    "df = df[base_cols + other_cols]"
   ]
  },
  {
   "cell_type": "code",
   "execution_count": 3,
   "id": "9b426c10",
   "metadata": {},
   "outputs": [
    {
     "name": "stdout",
     "output_type": "stream",
     "text": [
      "Saved 1323 rows to ../../data/comments.parquet\n"
     ]
    }
   ],
   "source": [
    "df.to_parquet(parquet_out, engine=\"pyarrow\", index=False)\n",
    "print(f'Saved {len(df)} rows to {parquet_out}')"
   ]
  }
 ],
 "metadata": {
  "kernelspec": {
   "display_name": ".venv (3.13.5)",
   "language": "python",
   "name": "python3"
  },
  "language_info": {
   "codemirror_mode": {
    "name": "ipython",
    "version": 3
   },
   "file_extension": ".py",
   "mimetype": "text/x-python",
   "name": "python",
   "nbconvert_exporter": "python",
   "pygments_lexer": "ipython3",
   "version": "3.13.5"
  }
 },
 "nbformat": 4,
 "nbformat_minor": 5
}
