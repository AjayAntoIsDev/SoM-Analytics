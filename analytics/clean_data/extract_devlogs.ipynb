{
 "cells": [
  {
   "cell_type": "markdown",
   "id": "aeb2b714",
   "metadata": {},
   "source": [
    "# Extract devlogs\n",
    "\n",
    "Extracts devlogs from the scraped project data\n",
    "\n",
    "devlogs_df schema\n",
    "- devlog_id: int\n",
    "- project_id: int\n",
    "- project_title: string\n",
    "- project_user_id: int\n",
    "- project_slack_id: string\n",
    "- category: string\n",
    "- text: string\n",
    "- text_length: int\n",
    "- has_attachment: bool\n",
    "- attachment_url: string | NaN\n",
    "- attachment_host: string | NaN\n",
    "- attachment_ext: string | NaN\n",
    "- time_seconds: int\n",
    "- time_minutes: float\n",
    "- likes_count: int\n",
    "- comments_count: int\n",
    "- engagement: int (likes_count + comments_count)\n",
    "- created_at: datetime64[ns, UTC]\n",
    "- updated_at: datetime64[ns, UTC]\n",
    "- created_date: date\n",
    "- created_hour_utc: int [0..23]\n",
    "- created_dow: int [0=Mon..6=Sun]\n",
    "- created_week: int [1..53] (ISO)\n",
    "- created_month: string (YYYY-MM)\n",
    "- devlog_idx_in_project: int (1-based order by created_at within project)\n",
    "\n",
    "\n",
    "Output artifacts:\n",
    "- devlogs.parquet"
   ]
  },
  {
   "cell_type": "code",
   "execution_count": null,
   "id": "4766fd9d",
   "metadata": {},
   "outputs": [],
   "source": [
    "%pip install pandas numpy pyarrow"
   ]
  },
  {
   "cell_type": "code",
   "execution_count": null,
   "id": "bae870da",
   "metadata": {},
   "outputs": [],
   "source": [
    "import json\n",
    "from pathlib import Path\n",
    "from urllib.parse import urlparse\n",
    "import pandas as pd\n",
    "import numpy as np\n",
    "from IPython.display import display\n",
    "\n",
    "OUTPUT = Path('../../data')\n",
    "\n",
    "projects_path = '../../data/raw/projects.json'\n",
    "\n",
    "with open(projects_path, 'r') as f:\n",
    "    raw = json.load(f)\n",
    "\n",
    "projects = raw.get('projects', [])"
   ]
  },
  {
   "cell_type": "code",
   "execution_count": 3,
   "id": "4bd2d3cf",
   "metadata": {},
   "outputs": [],
   "source": [
    "rows = []\n",
    "comment_rows = []\n",
    "for p in projects:\n",
    "    pid = p.get('id')\n",
    "    ptitle = p.get('title')\n",
    "    puser = p.get('user_id')\n",
    "    pslack = p.get('slack_id')\n",
    "    pcat = p.get('category')\n",
    "    devlogs = p.get('devlogs', []) or []\n",
    "\n",
    "    def parse_dt(s):\n",
    "        return pd.to_datetime(s, utc=True, errors='coerce')\n",
    "    devlogs_sorted = sorted(devlogs, key=lambda d: parse_dt(d.get('created_at')))\n",
    "\n",
    "    for i, d in enumerate(devlogs_sorted, start=1):\n",
    "        text = d.get('text') or ''\n",
    "        att = d.get('attachment') or None\n",
    "        parsed = urlparse(att) if att else None\n",
    "        ext = None\n",
    "        if att:\n",
    "            path = parsed.path or ''\n",
    "            if '.' in path:\n",
    "                ext = path.rsplit('.', 1)[-1].lower()\n",
    "        rows.append({\n",
    "            'devlog_id': d.get('id'),\n",
    "            'project_id': pid,\n",
    "            'project_title': ptitle,\n",
    "            'project_user_id': puser,\n",
    "            'project_slack_id': pslack,\n",
    "            'category': pcat,\n",
    "            'text': text,\n",
    "            'text_length': len(text),\n",
    "            'has_attachment': bool(att),\n",
    "            'attachment_url': att,\n",
    "            'attachment_host': parsed.hostname if parsed else None,\n",
    "            'attachment_ext': ext,\n",
    "            'time_seconds': d.get('time_seconds'),\n",
    "            'time_minutes': (d.get('time_seconds') or 0) / 60.0,\n",
    "            'likes_count': d.get('likes_count') or 0,\n",
    "            'comments_count': d.get('comments_count') or 0,\n",
    "            'engagement': (d.get('likes_count') or 0) + (d.get('comments_count') or 0),\n",
    "            'created_at': parse_dt(d.get('created_at')),\n",
    "            'updated_at': parse_dt(d.get('updated_at')),\n",
    "            'devlog_idx_in_project': i,\n",
    "        })\n",
    "\n",
    "        for c in d.get('comments') or []:\n",
    "            comment_rows.append({\n",
    "                'comment_id': c.get('id'),\n",
    "                'devlog_id': d.get('id'),\n",
    "                'project_id': pid,\n",
    "                'content': c.get('content') or '',\n",
    "                'content_length': len(c.get('content') or ''),\n",
    "                'word_count': len((c.get('content') or '').split()),\n",
    "                'created_at': parse_dt(c.get('created_at')),\n",
    "            })\n"
   ]
  },
  {
   "cell_type": "markdown",
   "id": "77a50eb1",
   "metadata": {},
   "source": [
    "Enhance the data inside the dataframe"
   ]
  },
  {
   "cell_type": "code",
   "execution_count": 4,
   "id": "3cd2efe3",
   "metadata": {},
   "outputs": [
    {
     "name": "stderr",
     "output_type": "stream",
     "text": [
      "/tmp/ipykernel_45492/73189697.py:22: UserWarning: Converting to PeriodArray/Index representation will drop timezone information.\n",
      "  devlogs_df['created_month'] = devlogs_df['created_at'].dt.to_period(\n"
     ]
    }
   ],
   "source": [
    "if rows:\n",
    "    devlogs_df = pd.DataFrame(rows)\n",
    "else:\n",
    "    devlogs_df = pd.DataFrame(columns=[\n",
    "        'devlog_id', 'project_id', 'project_title', 'project_user_id', 'project_slack_id', 'category', 'text', 'text_length', 'has_attachment', 'attachment_url', 'attachment_host', 'attachment_ext', 'time_seconds', 'time_minutes', 'likes_count', 'comments_count', 'engagement', 'created_at', 'updated_at', 'devlog_idx_in_project'\n",
    "    ])\n",
    "\n",
    "if not devlogs_df.empty:\n",
    "    for col in ['project_title', 'project_slack_id', 'category', 'attachment_host', 'attachment_ext']:\n",
    "        devlogs_df[col] = devlogs_df[col].astype('category')\n",
    "    for col in ['devlog_id', 'project_id', 'project_user_id', 'time_seconds', 'likes_count', 'comments_count', 'devlog_idx_in_project']:\n",
    "        devlogs_df[col] = pd.to_numeric(\n",
    "            devlogs_df[col], errors='coerce').astype('Int64')\n",
    "\n",
    "\n",
    "if not devlogs_df.empty:\n",
    "    devlogs_df['created_date'] = devlogs_df['created_at'].dt.date\n",
    "    devlogs_df['created_hour_utc'] = devlogs_df['created_at'].dt.hour\n",
    "    devlogs_df['created_dow'] = devlogs_df['created_at'].dt.dayofweek\n",
    "    devlogs_df['created_week'] = devlogs_df['created_at'].dt.isocalendar(\n",
    "    ).week.astype('Int64')\n",
    "    devlogs_df['created_month'] = devlogs_df['created_at'].dt.to_period(\n",
    "        'M').astype(str)"
   ]
  },
  {
   "cell_type": "code",
   "execution_count": 5,
   "id": "8cb7f922",
   "metadata": {},
   "outputs": [
    {
     "name": "stdout",
     "output_type": "stream",
     "text": [
      "devlogs: 27737 rows across 6290 projects\n"
     ]
    },
    {
     "data": {
      "application/vnd.microsoft.datawrangler.viewer.v0+json": {
       "columns": [
        {
         "name": "index",
         "rawType": "int64",
         "type": "integer"
        },
        {
         "name": "devlog_id",
         "rawType": "Int64",
         "type": "integer"
        },
        {
         "name": "project_id",
         "rawType": "Int64",
         "type": "integer"
        },
        {
         "name": "project_title",
         "rawType": "category",
         "type": "unknown"
        },
        {
         "name": "project_user_id",
         "rawType": "Int64",
         "type": "integer"
        },
        {
         "name": "project_slack_id",
         "rawType": "category",
         "type": "unknown"
        },
        {
         "name": "category",
         "rawType": "category",
         "type": "unknown"
        },
        {
         "name": "text",
         "rawType": "object",
         "type": "string"
        },
        {
         "name": "text_length",
         "rawType": "int64",
         "type": "integer"
        },
        {
         "name": "has_attachment",
         "rawType": "bool",
         "type": "boolean"
        },
        {
         "name": "attachment_url",
         "rawType": "object",
         "type": "string"
        },
        {
         "name": "attachment_host",
         "rawType": "category",
         "type": "unknown"
        },
        {
         "name": "attachment_ext",
         "rawType": "category",
         "type": "unknown"
        },
        {
         "name": "time_seconds",
         "rawType": "Int64",
         "type": "integer"
        },
        {
         "name": "time_minutes",
         "rawType": "float64",
         "type": "float"
        },
        {
         "name": "likes_count",
         "rawType": "Int64",
         "type": "integer"
        },
        {
         "name": "comments_count",
         "rawType": "Int64",
         "type": "integer"
        },
        {
         "name": "engagement",
         "rawType": "int64",
         "type": "integer"
        },
        {
         "name": "created_at",
         "rawType": "datetime64[ns, UTC]",
         "type": "unknown"
        },
        {
         "name": "updated_at",
         "rawType": "datetime64[ns, UTC]",
         "type": "unknown"
        },
        {
         "name": "devlog_idx_in_project",
         "rawType": "Int64",
         "type": "integer"
        },
        {
         "name": "created_date",
         "rawType": "object",
         "type": "unknown"
        },
        {
         "name": "created_hour_utc",
         "rawType": "int32",
         "type": "integer"
        },
        {
         "name": "created_dow",
         "rawType": "int32",
         "type": "integer"
        },
        {
         "name": "created_week",
         "rawType": "Int64",
         "type": "integer"
        },
        {
         "name": "created_month",
         "rawType": "object",
         "type": "string"
        }
       ],
       "ref": "dc19aff3-d7b6-4d2d-8ae7-e94055865122",
       "rows": [
        [
         "0",
         "72",
         "3",
         "dreamland.js",
         "14",
         "U07UY5CR7U5",
         "Something else",
         "Apparently `.class::before:where(...)` is invalid CSS, so I added a case for that in the CSS rewriter. Also messed with the component type some more, so that you can pass in pointers to any prop no matter what.",
         "210",
         "True",
         "https://summer.hackclub.com/rails/active_storage/blobs/redirect/eyJfcmFpbHMiOnsiZGF0YSI6MjI3LCJwdXIiOiJibG9iX2lkIn19--176d45d9d313e1cc054417549f38a32a238f087d/2025-06-16T12-28-01.png",
         "summer.hackclub.com",
         "png",
         "1368",
         "22.8",
         "0",
         "0",
         "0",
         "2025-06-16 19:28:04.969000+00:00",
         "2025-08-12 21:02:23.728000+00:00",
         "1",
         "2025-06-16",
         "19",
         "0",
         "25",
         "2025-06"
        ],
        [
         "1",
         "12556",
         "3",
         "dreamland.js",
         "14",
         "U07UY5CR7U5",
         "Something else",
         "Refactored the state system to make it cleaner and less buggy. Also cleaned up the array child case in the JSX factory to use more builtin array operations. \n\nI was going to post this devlog earlier, but I locked myself out of my projects (page 500ing) with invalid comment data.",
         "279",
         "True",
         "https://summer.hackclub.com/rails/active_storage/blobs/redirect/eyJfcmFpbHMiOnsiZGF0YSI6MTYwNDUsInB1ciI6ImJsb2JfaWQifX0=--35c37f12c34c492209b77bc3544dac11f124f733/2025-07-04T07-02-37.png",
         "summer.hackclub.com",
         "png",
         "15547",
         "259.1166666666667",
         "1",
         "0",
         "1",
         "2025-07-04 14:03:39.379000+00:00",
         "2025-08-12 21:01:36.933000+00:00",
         "2",
         "2025-07-04",
         "14",
         "4",
         "27",
         "2025-07"
        ],
        [
         "2",
         "12680",
         "3",
         "dreamland.js",
         "14",
         "U07UY5CR7U5",
         "Something else",
         "Attempted class components again, but it turns out there's no way to dynamically add typed properties to a class so the typescript looks very forced and bad. Reverted it and will move on to SSR now",
         "197",
         "True",
         "https://summer.hackclub.com/rails/active_storage/blobs/redirect/eyJfcmFpbHMiOnsiZGF0YSI6MTYyMDksInB1ciI6ImJsb2JfaWQifX0=--4d0a9cb2ec87e5cdec8e718e948bf4e9e05eba72/2025-07-04T10-06-34.png",
         "summer.hackclub.com",
         "png",
         "6108",
         "101.8",
         "0",
         "0",
         "0",
         "2025-07-04 17:26:32.619000+00:00",
         "2025-08-12 21:01:14.558000+00:00",
         "3",
         "2025-07-04",
         "17",
         "4",
         "27",
         "2025-07"
        ]
       ],
       "shape": {
        "columns": 25,
        "rows": 3
       }
      },
      "text/html": [
       "<div>\n",
       "<style scoped>\n",
       "    .dataframe tbody tr th:only-of-type {\n",
       "        vertical-align: middle;\n",
       "    }\n",
       "\n",
       "    .dataframe tbody tr th {\n",
       "        vertical-align: top;\n",
       "    }\n",
       "\n",
       "    .dataframe thead th {\n",
       "        text-align: right;\n",
       "    }\n",
       "</style>\n",
       "<table border=\"1\" class=\"dataframe\">\n",
       "  <thead>\n",
       "    <tr style=\"text-align: right;\">\n",
       "      <th></th>\n",
       "      <th>devlog_id</th>\n",
       "      <th>project_id</th>\n",
       "      <th>project_title</th>\n",
       "      <th>project_user_id</th>\n",
       "      <th>project_slack_id</th>\n",
       "      <th>category</th>\n",
       "      <th>text</th>\n",
       "      <th>text_length</th>\n",
       "      <th>has_attachment</th>\n",
       "      <th>attachment_url</th>\n",
       "      <th>...</th>\n",
       "      <th>comments_count</th>\n",
       "      <th>engagement</th>\n",
       "      <th>created_at</th>\n",
       "      <th>updated_at</th>\n",
       "      <th>devlog_idx_in_project</th>\n",
       "      <th>created_date</th>\n",
       "      <th>created_hour_utc</th>\n",
       "      <th>created_dow</th>\n",
       "      <th>created_week</th>\n",
       "      <th>created_month</th>\n",
       "    </tr>\n",
       "  </thead>\n",
       "  <tbody>\n",
       "    <tr>\n",
       "      <th>0</th>\n",
       "      <td>72</td>\n",
       "      <td>3</td>\n",
       "      <td>dreamland.js</td>\n",
       "      <td>14</td>\n",
       "      <td>U07UY5CR7U5</td>\n",
       "      <td>Something else</td>\n",
       "      <td>Apparently `.class::before:where(...)` is inva...</td>\n",
       "      <td>210</td>\n",
       "      <td>True</td>\n",
       "      <td>https://summer.hackclub.com/rails/active_stora...</td>\n",
       "      <td>...</td>\n",
       "      <td>0</td>\n",
       "      <td>0</td>\n",
       "      <td>2025-06-16 19:28:04.969000+00:00</td>\n",
       "      <td>2025-08-12 21:02:23.728000+00:00</td>\n",
       "      <td>1</td>\n",
       "      <td>2025-06-16</td>\n",
       "      <td>19</td>\n",
       "      <td>0</td>\n",
       "      <td>25</td>\n",
       "      <td>2025-06</td>\n",
       "    </tr>\n",
       "    <tr>\n",
       "      <th>1</th>\n",
       "      <td>12556</td>\n",
       "      <td>3</td>\n",
       "      <td>dreamland.js</td>\n",
       "      <td>14</td>\n",
       "      <td>U07UY5CR7U5</td>\n",
       "      <td>Something else</td>\n",
       "      <td>Refactored the state system to make it cleaner...</td>\n",
       "      <td>279</td>\n",
       "      <td>True</td>\n",
       "      <td>https://summer.hackclub.com/rails/active_stora...</td>\n",
       "      <td>...</td>\n",
       "      <td>0</td>\n",
       "      <td>1</td>\n",
       "      <td>2025-07-04 14:03:39.379000+00:00</td>\n",
       "      <td>2025-08-12 21:01:36.933000+00:00</td>\n",
       "      <td>2</td>\n",
       "      <td>2025-07-04</td>\n",
       "      <td>14</td>\n",
       "      <td>4</td>\n",
       "      <td>27</td>\n",
       "      <td>2025-07</td>\n",
       "    </tr>\n",
       "    <tr>\n",
       "      <th>2</th>\n",
       "      <td>12680</td>\n",
       "      <td>3</td>\n",
       "      <td>dreamland.js</td>\n",
       "      <td>14</td>\n",
       "      <td>U07UY5CR7U5</td>\n",
       "      <td>Something else</td>\n",
       "      <td>Attempted class components again, but it turns...</td>\n",
       "      <td>197</td>\n",
       "      <td>True</td>\n",
       "      <td>https://summer.hackclub.com/rails/active_stora...</td>\n",
       "      <td>...</td>\n",
       "      <td>0</td>\n",
       "      <td>0</td>\n",
       "      <td>2025-07-04 17:26:32.619000+00:00</td>\n",
       "      <td>2025-08-12 21:01:14.558000+00:00</td>\n",
       "      <td>3</td>\n",
       "      <td>2025-07-04</td>\n",
       "      <td>17</td>\n",
       "      <td>4</td>\n",
       "      <td>27</td>\n",
       "      <td>2025-07</td>\n",
       "    </tr>\n",
       "  </tbody>\n",
       "</table>\n",
       "<p>3 rows × 25 columns</p>\n",
       "</div>"
      ],
      "text/plain": [
       "   devlog_id  project_id project_title  project_user_id project_slack_id  \\\n",
       "0         72           3  dreamland.js               14      U07UY5CR7U5   \n",
       "1      12556           3  dreamland.js               14      U07UY5CR7U5   \n",
       "2      12680           3  dreamland.js               14      U07UY5CR7U5   \n",
       "\n",
       "         category                                               text  \\\n",
       "0  Something else  Apparently `.class::before:where(...)` is inva...   \n",
       "1  Something else  Refactored the state system to make it cleaner...   \n",
       "2  Something else  Attempted class components again, but it turns...   \n",
       "\n",
       "   text_length  has_attachment  \\\n",
       "0          210            True   \n",
       "1          279            True   \n",
       "2          197            True   \n",
       "\n",
       "                                      attachment_url  ... comments_count  \\\n",
       "0  https://summer.hackclub.com/rails/active_stora...  ...              0   \n",
       "1  https://summer.hackclub.com/rails/active_stora...  ...              0   \n",
       "2  https://summer.hackclub.com/rails/active_stora...  ...              0   \n",
       "\n",
       "  engagement                       created_at  \\\n",
       "0          0 2025-06-16 19:28:04.969000+00:00   \n",
       "1          1 2025-07-04 14:03:39.379000+00:00   \n",
       "2          0 2025-07-04 17:26:32.619000+00:00   \n",
       "\n",
       "                        updated_at  devlog_idx_in_project  created_date  \\\n",
       "0 2025-08-12 21:02:23.728000+00:00                      1    2025-06-16   \n",
       "1 2025-08-12 21:01:36.933000+00:00                      2    2025-07-04   \n",
       "2 2025-08-12 21:01:14.558000+00:00                      3    2025-07-04   \n",
       "\n",
       "   created_hour_utc created_dow created_week  created_month  \n",
       "0                19           0           25        2025-06  \n",
       "1                14           4           27        2025-07  \n",
       "2                17           4           27        2025-07  \n",
       "\n",
       "[3 rows x 25 columns]"
      ]
     },
     "execution_count": 5,
     "metadata": {},
     "output_type": "execute_result"
    }
   ],
   "source": [
    "OUTPUT.mkdir(parents=True, exist_ok=True)\n",
    "\n",
    "\n",
    "def safe_write(df: pd.DataFrame, path: Path):\n",
    "    try:\n",
    "        df.to_parquet(path, index=False)\n",
    "    except Exception as e:\n",
    "        print(f'Failed to write {path}:', e)\n",
    "\n",
    "\n",
    "safe_write(devlogs_df, OUTPUT / 'devlogs.parquet')\n",
    "\n",
    "print('devlogs:', len(devlogs_df), 'rows across',\n",
    "      devlogs_df['project_id'].nunique(), 'projects')\n",
    "devlogs_df.head(3)"
   ]
  }
 ],
 "metadata": {
  "kernelspec": {
   "display_name": ".venv (3.13.5)",
   "language": "python",
   "name": "python3"
  },
  "language_info": {
   "codemirror_mode": {
    "name": "ipython",
    "version": 3
   },
   "file_extension": ".py",
   "mimetype": "text/x-python",
   "name": "python",
   "nbconvert_exporter": "python",
   "pygments_lexer": "ipython3",
   "version": "3.13.5"
  }
 },
 "nbformat": 4,
 "nbformat_minor": 5
}
