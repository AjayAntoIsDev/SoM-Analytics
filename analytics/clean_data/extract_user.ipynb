{
 "cells": [
  {
   "cell_type": "markdown",
   "id": "3f6d4dd5",
   "metadata": {},
   "source": [
    "# Extract Users to Parquet\n",
    "Normalize `users.json` into analytics-ready Parquet datasets.\n",
    "\n",
    "This notebook will:\n",
    "- Read `data/raw/users.json` (fallback: `data/backup/users.json`)\n",
    "- Build a Users table (exclude nested `projects` list)\n",
    "- Build a User Badges table with one row per badge name per user\n",
    "- Parse timestamps and add `scraped_at`\n",
    "- Save to `data/users.parquet` and `data/user_badges.parquet`"
   ]
  },
  {
   "cell_type": "code",
   "execution_count": 1,
   "id": "c7d5928a",
   "metadata": {},
   "outputs": [],
   "source": [
    "# Imports\n",
    "import json\n",
    "from pathlib import Path\n",
    "import pandas as pd\n",
    "\n",
    "OUTPUT = Path('../../data')\n",
    "\n",
    "user_path = '../../data/raw/users.json'\n",
    "parquet_out = OUTPUT / 'users.parquet'\n",
    "\n",
    "with open(user_path, 'r') as f:\n",
    "    raw = json.load(f)"
   ]
  },
  {
   "cell_type": "code",
   "execution_count": null,
   "id": "7a31e8db",
   "metadata": {},
   "outputs": [],
   "source": [
    "users = raw.get('users', [])\n",
    "scraped_at = raw.get('scraped_at')\n",
    "\n",
    "parse_dt = lambda s: pd.to_datetime(s, errors='coerce', utc=True) if pd.notna(s) else pd.NaT\n",
    "\n",
    "user_cols = [\n",
    "    'id','slack_id','display_name','bio','projects_count','devlogs_count','votes_count','ships_count',\n",
    "    'coding_time_seconds','coding_time_seconds_today','balance','created_at','updated_at','avatar','custom_css'\n",
    "]\n",
    "user_records = []\n",
    "for u in users:\n",
    "    rec = {k: u.get(k) for k in user_cols}\n",
    "    rec['created_at'] = parse_dt(rec.get('created_at'))\n",
    "    rec['updated_at'] = parse_dt(rec.get('updated_at'))\n",
    "    rec['scraped_at'] = parse_dt(scraped_at) if scraped_at else pd.Timestamp.utcnow()\n",
    "    user_records.append(rec)\n",
    "\n",
    "df_users = pd.DataFrame(user_records)"
   ]
  },
  {
   "cell_type": "code",
   "execution_count": 3,
   "id": "10435bb3",
   "metadata": {},
   "outputs": [],
   "source": [
    "badge_records = []\n",
    "for u in users:\n",
    "    uid = u.get('id')\n",
    "    for b in u.get('badges', []) or []:\n",
    "        badge_records.append({\n",
    "            'user_id': uid,\n",
    "            'badge_name': b.get('name'),\n",
    "            'badge_text': b.get('text'),\n",
    "            'badge_icon': b.get('icon'),\n",
    "            'scraped_at': parse_dt(scraped_at) if scraped_at else pd.Timestamp.utcnow(),\n",
    "        })\n",
    "\n",
    "df_badges = pd.DataFrame(badge_records)"
   ]
  },
  {
   "cell_type": "code",
   "execution_count": 4,
   "id": "a00f77ed",
   "metadata": {},
   "outputs": [
    {
     "name": "stdout",
     "output_type": "stream",
     "text": [
      "Saved:\n",
      " - users: ../../data/users.parquet\n",
      " - user_badges: ../../data/user_badges.parquet\n",
      "\n",
      "Row counts: {'users': 21143, 'user_badges': 2157}\n"
     ]
    }
   ],
   "source": [
    "p_users = OUTPUT / 'users.parquet'\n",
    "p_badges = OUTPUT / 'user_badges.parquet'\n",
    "\n",
    "if not df_users.empty:\n",
    "    df_users.to_parquet(p_users, engine=\"pyarrow\", index=False)\n",
    "if not df_badges.empty:\n",
    "    df_badges.to_parquet(p_badges, engine=\"pyarrow\", index=False)\n",
    "\n",
    "print('Saved:')\n",
    "for name, p in {'users': p_users, 'user_badges': p_badges}.items():\n",
    "    if p.exists():\n",
    "        print(f' - {name}: {p}')\n",
    "\n",
    "print('\\nRow counts:', {'users': len(df_users), 'user_badges': len(df_badges)})"
   ]
  }
 ],
 "metadata": {
  "kernelspec": {
   "display_name": ".venv (3.13.5)",
   "language": "python",
   "name": "python3"
  },
  "language_info": {
   "codemirror_mode": {
    "name": "ipython",
    "version": 3
   },
   "file_extension": ".py",
   "mimetype": "text/x-python",
   "name": "python",
   "nbconvert_exporter": "python",
   "pygments_lexer": "ipython3",
   "version": "3.13.5"
  }
 },
 "nbformat": 4,
 "nbformat_minor": 5
}
